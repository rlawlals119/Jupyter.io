{
 "cells": [
  {
   "cell_type": "code",
   "execution_count": 1,
   "id": "8ffc14f7",
   "metadata": {},
   "outputs": [
    {
     "name": "stdout",
     "output_type": "stream",
     "text": [
      "4\n",
      "1\n",
      "2\n",
      "1\n",
      "3\n"
     ]
    }
   ],
   "source": [
    "#1\n",
    "print(1 and 2 and 3 and 4)     # 앞에서 부터 판별을 하는데 모든 값이 true여야 하기 때문에 마지막 값인 4가 반환이 되었습니다.\n",
    "print(1 or 2 or 3 or 4)        # 앞에서 부터 판별을 하는데 한 값만 true이면 되기 때문에 맨 앞 값인 1이 반환되었습니다.\n",
    "print((1 and 2) or (3 and 4))  # 1 and 2 값만 true이면 되고 1과 2 둘다 true이여야 하기 때문에 2가 반환되었습니다.\n",
    "print(1 or 2 and 3 or 4)       # and가 or보다 높은 우선 순위를 갖기 때문에 2 and 3은 3을 반환하고 1 or 3 or 4는 1을 반환합니다.\n",
    "print((1 or 2) and (3 or 4))   # 1 or 2는 1을 반환하고 3 or 4는 3을 반환하여 1 and 3은 3을 반환합니다."
   ]
  },
  {
   "cell_type": "code",
   "execution_count": 2,
   "id": "8f1e6f16",
   "metadata": {},
   "outputs": [
    {
     "name": "stdout",
     "output_type": "stream",
     "text": [
      "['/home/chulsoo', 'test.txt']\n",
      "['/usr/local/bin', 'python']\n"
     ]
    }
   ],
   "source": [
    "#2\n",
    "\n",
    "def div_path(s):                                      # 경로명과 파일명을 분리하여 리스트로 반환하는 함수\n",
    "    a = s.rfind('/')                                  # 제일 뒤에 있는 /의 위치\n",
    "    path = s[:a]                                      # 마지막 /위치 까지의 문자열이 경로\n",
    "    file = s[a+1:]                                    # 마지막 / 뒤부터의 문자열이 파일명\n",
    "    print(\"['\" + path + \"', \" + \"'\" + file + \"']\")   # 경로와 파일명 출력\n",
    "s1 = '/home/chulsoo/test.txt'   \n",
    "s2 = '/usr/local/bin/python'\n",
    "div_path(s1)\n",
    "div_path(s2)"
   ]
  },
  {
   "cell_type": "code",
   "execution_count": 3,
   "id": "5b0aa5f7",
   "metadata": {},
   "outputs": [
    {
     "name": "stdout",
     "output_type": "stream",
     "text": [
      "[-10, -5, -1, 9, 100]\n"
     ]
    }
   ],
   "source": [
    "#3\n",
    "def list_union(lista, listb):           # 두 개의 리스트에 대한 '합집합'을 반환하는 함수\n",
    "    listc = lista + listb               # 두 개의 리스트를 합하여 listc에 대입\n",
    "    for n in listc:\n",
    "        if n in lista and n in listb:  # n 값이 lista와 listb 모두에 들어있다면\n",
    "            listc.remove(n)             # listc 에서 n 항목을 제거\n",
    "            listb.remove(n)             # listb 에서 n 항목을 제거\n",
    "        for i in listc:                # listc 내부에 중복 항목 제거하기 위한 for문\n",
    "            while listc.count(i) != 1:\n",
    "                listc.remove(i)\n",
    "    print(sorted(listc))               # 합집합인 listc 출력\n",
    "lista = [-10, -5, 0, -1]\n",
    "listb = [100, 9, 0, 9]\n",
    "list_union(lista, listb)"
   ]
  },
  {
   "cell_type": "code",
   "execution_count": 4,
   "id": "d6413d5b",
   "metadata": {},
   "outputs": [
    {
     "name": "stdout",
     "output_type": "stream",
     "text": [
      "차집합: [2, 4, 5]\n",
      "교집합: [1, 3]\n"
     ]
    }
   ],
   "source": [
    "#4\n",
    "def list_intersection(lista, listb):         # 두 개의 리스트에 대한 '교집합'을 반환하는 함수\n",
    "    listc = lista + listb\n",
    "    listd = []\n",
    "    for n in listc:\n",
    "        if (n in lista) and (n in listb):   # lista와 listb에 중복으로 들어 있는 함수가 있으면\n",
    "            listd.append(n)                  # listd에 중복되는 항목 추가\n",
    "            listb.remove(n)                 \n",
    "    print(\"교집합: \" + str(sorted(listd)))\n",
    "def list_difference(lista, listb):          # 두 개의 리스트에 대한 '차집합'을 반환하는 함수\n",
    "    listc = []\n",
    "    for n in lista:\n",
    "        if n not in listb:                 # lista의 항목이 listb에 없는 항목이라면  \n",
    "            listc.append(n)                 # listc에 항목 추가\n",
    "    for s in listb:\n",
    "        if s not in lista:\n",
    "            listc.append(s)\n",
    "    print(\"차집합: \" + str(sorted(listc)))\n",
    "lista = [1, 3, 4, 5]\n",
    "listb = [1, 2, 3]\n",
    "list_difference(lista, listb)\n",
    "list_intersection(lista, listb)"
   ]
  },
  {
   "cell_type": "code",
   "execution_count": 11,
   "id": "9b186782",
   "metadata": {},
   "outputs": [
    {
     "name": "stdout",
     "output_type": "stream",
     "text": [
      "[2, 3, 5, 7]\n"
     ]
    }
   ],
   "source": [
    "#5\n",
    "def print_primenumber(a, b):     # 소수(prime number)의 리스트를 출력하는 함수\n",
    "    for n in range(a, b+1):\n",
    "        if n == 0 or n == 1:\n",
    "            print('', end = '')  # 0 또는 1인 경우 아무것도 실행되지 않도록 함\n",
    "        elif n == 2:            # 2인 경우 리스트에 2 추가\n",
    "            p_list.append(n)\n",
    "        else:                   # 소수를 구함\n",
    "            for s in range(2, n):\n",
    "                i = 2\n",
    "                while n % i != 0: # n을 처음으로 나머지 없이 나누는 i를 구함\n",
    "                    i = i+1 \n",
    "            if n == i:            # i가 자기자신일 경우에는 n이 소수임\n",
    "                p_list.append(n)  # 리스트에 n 추가\n",
    "    print(p_list)                 # 소수의 리스트 출력\n",
    "                \n",
    "a = 1\n",
    "b = 7\n",
    "p_list = []\n",
    "print_primenumber(a, b)"
   ]
  },
  {
   "cell_type": "code",
   "execution_count": 16,
   "id": "d553b014",
   "metadata": {},
   "outputs": [
    {
     "name": "stdout",
     "output_type": "stream",
     "text": [
      "395\n",
      "338\n"
     ]
    }
   ],
   "source": [
    "# Incremental Project\n",
    "\n",
    "import requests\n",
    "requests.packages.urllib3.disable_warnings(requests.packages.urllib3.exceptions.InsecureRequestWarning)\n",
    "\n",
    "req1 = requests.get('https://cse.koreatech.ac.kr', verify=False)\n",
    "req2 = requests.get('https://github.com/rlawlals119', verify=False)\n",
    "\n",
    "source1 = req1.text\n",
    "source2 = req2.text\n",
    "# print(source)\n",
    "def wordCheck(source):\n",
    "    while (\"<!--\" in source) and (\"-->\" in source):          # <!-- --> 는 주석이기 때문에 삭제\n",
    "        a = source.find('<!--')\n",
    "        b = source.find('-->')\n",
    "        source = source.replace(source[a:b+3], '')            # <!-- 의 시작 부분부터 -->의 끝 글자까지 삭제\n",
    "    \n",
    "    while (\"<script\" in source) and (\"</script>\" in source): # script 태그가 포함 하는 내용 삭제\n",
    "        a = source.find('<script')\n",
    "        b = source.find('</script>')\n",
    "        source = source.replace(source[a:b+9], '')            # <script 의 시작부터 </script> 까지의 내용 삭제\n",
    "\n",
    "    for n in range(0, source.count('<')+1):                  # 태그 삭제\n",
    "        a = source.find('<')\n",
    "        b = source.find('>')\n",
    "        source = source.replace(source[a:b+1], '')           # '<'부터 '>'까지의 내용 삭제\n",
    "    return source\n",
    "# print(source)\n",
    "\n",
    "source1 = wordCheck(source1)\n",
    "source2 = wordCheck(source2)\n",
    "\n",
    "\n",
    "num1 = source1.split()                                     # 공백을 기준으로 문자열을 나눔\n",
    "num2 = source2.split()\n",
    "print(len(num1))                                          # 공백을 기준으로 나뉜 항목을 가진 문자열의 길이를 출\n",
    "print(len(num2))"
   ]
  }
 ],
 "metadata": {
  "kernelspec": {
   "display_name": "Python 3",
   "language": "python",
   "name": "python3"
  },
  "language_info": {
   "codemirror_mode": {
    "name": "ipython",
    "version": 3
   },
   "file_extension": ".py",
   "mimetype": "text/x-python",
   "name": "python",
   "nbconvert_exporter": "python",
   "pygments_lexer": "ipython3",
   "version": "3.8.8"
  }
 },
 "nbformat": 4,
 "nbformat_minor": 5
}
