{
 "cells": [
  {
   "cell_type": "code",
   "execution_count": 11,
   "id": "4bb5c96e",
   "metadata": {},
   "outputs": [],
   "source": [
    "f = open(\"s.txt\",'w')\n",
    "f.close()"
   ]
  },
  {
   "cell_type": "code",
   "execution_count": 46,
   "id": "e27252a7",
   "metadata": {},
   "outputs": [],
   "source": [
    "f = open(\"s.txt\", 'w')\n",
    "f.write(\"pig ham\\ncat dog\\nham bird\\ndog pig\\n\")\n",
    "f.close()"
   ]
  },
  {
   "cell_type": "code",
   "execution_count": 40,
   "id": "c5f05e19",
   "metadata": {
    "scrolled": true
   },
   "outputs": [
    {
     "name": "stdout",
     "output_type": "stream",
     "text": [
      "pig ham\n",
      "cat dog\n",
      "ham bird\n",
      "dog pig\n",
      "\n"
     ]
    }
   ],
   "source": [
    "f = open(\"s.txt\", 'r')\n",
    "\n",
    "line = f.read()\n",
    "print(line)\n",
    "f.close()"
   ]
  },
  {
   "cell_type": "code",
   "execution_count": 49,
   "id": "bda5eda8",
   "metadata": {},
   "outputs": [
    {
     "name": "stdout",
     "output_type": "stream",
     "text": [
      "cat dog\n",
      "dog pig\n",
      "ham bird\n",
      "pig ham\n",
      "\n",
      "cat dog\n",
      "dog pig\n",
      "ham bird\n",
      "pig ham\n",
      "\n"
     ]
    }
   ],
   "source": [
    "f = open(\"s.txt\", 'r')\n",
    "line = f.readlines()\n",
    "line.sort()\n",
    "line=''.join(line)\n",
    "f.close()\n",
    "print(line)\n",
    "f = open(\"s1.txt\", 'w')\n",
    "f.write(line)\n",
    "f.close()\n",
    "f = open(\"s1.txt\", 'r')\n",
    "line1 = f.read()\n",
    "print(line1)\n",
    "f.close()"
   ]
  },
  {
   "cell_type": "code",
   "execution_count": 88,
   "id": "67e209eb",
   "metadata": {
    "scrolled": true
   },
   "outputs": [
    {
     "name": "stdout",
     "output_type": "stream",
     "text": [
      "[['pig', 'ham'], ['cat', 'dog'], ['ham', 'bird'], ['dog', 'pig']]\n",
      "[['ham', 'bird'], ['cat', 'dog'], ['pig', 'ham'], ['dog', 'pig']]\n",
      "ham bird\n",
      "cat dog\n",
      "pig ham\n",
      "dog pig\n"
     ]
    }
   ],
   "source": [
    "f = open(\"s.txt\", 'r')\n",
    "line = f.readlines()\n",
    "w, h = 2, 4\n",
    "lines = [[0 for x in range(w)] for y in range(h)]\n",
    "for i in range(0, len(line)):\n",
    "    lines[i][0] = line[i].split()[0]\n",
    "    lines[i][1] = line[i].split()[1]\n",
    "print(lines)\n",
    "lines.sort(key = lambda x : x[1], reverse = False)\n",
    "print(lines)\n",
    "f.close()\n",
    "for i in range(0, len(lines)):\n",
    "    lines[i] = ' '.join(lines[i])\n",
    "line2 = '\\n'.join(lines)\n",
    "f = open(\"s2.txt\", 'w')\n",
    "f.write(line2)\n",
    "f.close()\n",
    "f = open(\"s2.txt\", 'r')\n",
    "print(f.read())\n",
    "f.close()"
   ]
  },
  {
   "cell_type": "code",
   "execution_count": 6,
   "id": "ed995458",
   "metadata": {
    "scrolled": true
   },
   "outputs": [
    {
     "name": "stdout",
     "output_type": "stream",
     "text": [
      "['pig', 'ham', 'cat', 'dog', 'ham', 'bird', 'dog', 'pig']\n",
      "pig ham cat \n",
      " dog ham bird \n",
      " dog pig\n"
     ]
    }
   ],
   "source": [
    "f = open(\"s.txt\", 'r')\n",
    "line = f.read().split()\n",
    "print(line)\n",
    "f = open(\"s3.txt\", 'w')\n",
    "n = 3\n",
    "while(1):\n",
    "    line.insert(n, \"\\n\")\n",
    "    n += 4\n",
    "    if(n > len(line)): break\n",
    "f.write(' '.join(line))\n",
    "f.close()\n",
    "f = open(\"s3.txt\", 'r')\n",
    "print(f.read())\n",
    "f.close()"
   ]
  },
  {
   "cell_type": "code",
   "execution_count": 10,
   "id": "aa093ec8",
   "metadata": {},
   "outputs": [
    {
     "name": "stdout",
     "output_type": "stream",
     "text": [
      "0\n",
      "3\n",
      "15\n",
      "5\n"
     ]
    }
   ],
   "source": [
    "def sum(x=0, *args):\n",
    "    s = x\n",
    "    for i in range(0, len(args)):\n",
    "        s += args[i]\n",
    "    return s\n",
    "print(sum())\n",
    "print(sum(1,2))\n",
    "print(sum(1,2,3,4,5))\n",
    "print(sum(1,5,7,2,-10))"
   ]
  },
  {
   "cell_type": "markdown",
   "id": "c5e20160",
   "metadata": {},
   "source": [
    "(서술형)import string 과 from string import* 의 차이점을 설명하시오.\n",
    "\n",
    "답: import string은 현재 네임스페이스에 모듈을 가져온 것이고 from string import* 은 현재의 네임스페이스 안에 가져와 바로 참조할 수 있다. "
   ]
  },
  {
   "cell_type": "markdown",
   "id": "4be88392",
   "metadata": {},
   "source": [
    "숙제이후 소감 작성: 단순한 코드 실행이 아닌 파일 입출력에 대해 배우게 되어 좋았습니다."
   ]
  },
  {
   "cell_type": "code",
   "execution_count": null,
   "id": "22d9a7b6",
   "metadata": {},
   "outputs": [],
   "source": []
  },
  {
   "cell_type": "code",
   "execution_count": null,
   "id": "383c9281",
   "metadata": {},
   "outputs": [],
   "source": []
  }
 ],
 "metadata": {
  "kernelspec": {
   "display_name": "Python 3",
   "language": "python",
   "name": "python3"
  },
  "language_info": {
   "codemirror_mode": {
    "name": "ipython",
    "version": 3
   },
   "file_extension": ".py",
   "mimetype": "text/x-python",
   "name": "python",
   "nbconvert_exporter": "python",
   "pygments_lexer": "ipython3",
   "version": "3.8.8"
  }
 },
 "nbformat": 4,
 "nbformat_minor": 5
}
