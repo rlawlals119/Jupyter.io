{
 "cells": [
  {
   "cell_type": "markdown",
   "id": "ab490969",
   "metadata": {},
   "source": [
    "##### 1. L=[1, 2, 3, 4, 5]일 때 다음 각 문장을 수행한 후의 결과를 보고 납득할 만한 이유를 설명하시오."
   ]
  },
  {
   "cell_type": "markdown",
   "id": "7aa6515c",
   "metadata": {},
   "source": [
    "1) 위치 1부터 3앞까지의 항목들을 100으로 바꾸었기 때문에 아래와 같은 결과가 나왔습니다."
   ]
  },
  {
   "cell_type": "code",
   "execution_count": 2,
   "id": "0ff1a3fc",
   "metadata": {},
   "outputs": [
    {
     "name": "stdout",
     "output_type": "stream",
     "text": [
      "[1, 100, 4, 5]\n"
     ]
    }
   ],
   "source": [
    "L=[1, 2, 3, 4, 5]\n",
    "L[1:3] = [100]\n",
    "print(L)"
   ]
  },
  {
   "cell_type": "markdown",
   "id": "fdd9ab57",
   "metadata": {},
   "source": [
    "2) 위치 1부터 3앞까지의 항목들에 100을 넣어 아래와 같은 결과가 나왔습니다."
   ]
  },
  {
   "cell_type": "code",
   "execution_count": 4,
   "id": "04cb9b9c",
   "metadata": {},
   "outputs": [
    {
     "name": "stdout",
     "output_type": "stream",
     "text": [
      "[1, 100, 4, 5]\n"
     ]
    }
   ],
   "source": [
    "L=[1, 2, 3, 4, 5]\n",
    "L[1:3] = [(100)]\n",
    "print(L)"
   ]
  },
  {
   "cell_type": "markdown",
   "id": "4675ab5c",
   "metadata": {},
   "source": [
    "3) 타입이 잘못되어 오류가 발생하였습니다."
   ]
  },
  {
   "cell_type": "code",
   "execution_count": 6,
   "id": "42726ef9",
   "metadata": {},
   "outputs": [
    {
     "ename": "TypeError",
     "evalue": "can only assign an iterable",
     "output_type": "error",
     "traceback": [
      "\u001b[1;31m---------------------------------------------------------------------------\u001b[0m",
      "\u001b[1;31mTypeError\u001b[0m                                 Traceback (most recent call last)",
      "\u001b[1;32m<ipython-input-6-b14b6d5e9def>\u001b[0m in \u001b[0;36m<module>\u001b[1;34m\u001b[0m\n\u001b[0;32m      1\u001b[0m \u001b[0mL\u001b[0m\u001b[1;33m=\u001b[0m\u001b[1;33m[\u001b[0m\u001b[1;36m1\u001b[0m\u001b[1;33m,\u001b[0m \u001b[1;36m2\u001b[0m\u001b[1;33m,\u001b[0m \u001b[1;36m3\u001b[0m\u001b[1;33m,\u001b[0m \u001b[1;36m4\u001b[0m\u001b[1;33m,\u001b[0m \u001b[1;36m5\u001b[0m\u001b[1;33m]\u001b[0m\u001b[1;33m\u001b[0m\u001b[1;33m\u001b[0m\u001b[0m\n\u001b[1;32m----> 2\u001b[1;33m \u001b[0mL\u001b[0m\u001b[1;33m[\u001b[0m\u001b[1;36m1\u001b[0m\u001b[1;33m:\u001b[0m\u001b[1;36m3\u001b[0m\u001b[1;33m]\u001b[0m \u001b[1;33m=\u001b[0m \u001b[1;36m100\u001b[0m\u001b[1;33m\u001b[0m\u001b[1;33m\u001b[0m\u001b[0m\n\u001b[0m\u001b[0;32m      3\u001b[0m \u001b[0mprint\u001b[0m\u001b[1;33m(\u001b[0m\u001b[0mL\u001b[0m\u001b[1;33m)\u001b[0m\u001b[1;33m\u001b[0m\u001b[1;33m\u001b[0m\u001b[0m\n",
      "\u001b[1;31mTypeError\u001b[0m: can only assign an iterable"
     ]
    }
   ],
   "source": [
    "L=[1, 2, 3, 4, 5]\n",
    "L[1:3] = 100\n",
    "print(L)"
   ]
  },
  {
   "cell_type": "markdown",
   "id": "00c0c2a7",
   "metadata": {},
   "source": [
    "4) 3번과 같이 타입이 잘못되어 오류가 발생하였습니다."
   ]
  },
  {
   "cell_type": "code",
   "execution_count": 7,
   "id": "9ad6603b",
   "metadata": {},
   "outputs": [
    {
     "ename": "TypeError",
     "evalue": "can only assign an iterable",
     "output_type": "error",
     "traceback": [
      "\u001b[1;31m---------------------------------------------------------------------------\u001b[0m",
      "\u001b[1;31mTypeError\u001b[0m                                 Traceback (most recent call last)",
      "\u001b[1;32m<ipython-input-7-9714c1575170>\u001b[0m in \u001b[0;36m<module>\u001b[1;34m\u001b[0m\n\u001b[0;32m      1\u001b[0m \u001b[0mL\u001b[0m\u001b[1;33m=\u001b[0m\u001b[1;33m[\u001b[0m\u001b[1;36m1\u001b[0m\u001b[1;33m,\u001b[0m \u001b[1;36m2\u001b[0m\u001b[1;33m,\u001b[0m \u001b[1;36m3\u001b[0m\u001b[1;33m,\u001b[0m \u001b[1;36m4\u001b[0m\u001b[1;33m,\u001b[0m \u001b[1;36m5\u001b[0m\u001b[1;33m]\u001b[0m\u001b[1;33m\u001b[0m\u001b[1;33m\u001b[0m\u001b[0m\n\u001b[1;32m----> 2\u001b[1;33m \u001b[0mL\u001b[0m\u001b[1;33m[\u001b[0m\u001b[1;36m1\u001b[0m\u001b[1;33m:\u001b[0m\u001b[1;36m3\u001b[0m\u001b[1;33m]\u001b[0m \u001b[1;33m=\u001b[0m \u001b[1;33m(\u001b[0m\u001b[1;36m100\u001b[0m\u001b[1;33m)\u001b[0m\u001b[1;33m\u001b[0m\u001b[1;33m\u001b[0m\u001b[0m\n\u001b[0m\u001b[0;32m      3\u001b[0m \u001b[0mprint\u001b[0m\u001b[1;33m(\u001b[0m\u001b[0mL\u001b[0m\u001b[1;33m)\u001b[0m\u001b[1;33m\u001b[0m\u001b[1;33m\u001b[0m\u001b[0m\n",
      "\u001b[1;31mTypeError\u001b[0m: can only assign an iterable"
     ]
    }
   ],
   "source": [
    "L=[1, 2, 3, 4, 5]\n",
    "L[1:3] = (100)\n",
    "print(L)"
   ]
  },
  {
   "cell_type": "markdown",
   "id": "2e45d7f3",
   "metadata": {},
   "source": [
    "5) 위치 1부터 3전까지의 항목에 100, 101, 102를 넣어 아래와 같은 결과가 나왔습니다."
   ]
  },
  {
   "cell_type": "code",
   "execution_count": 8,
   "id": "800c046d",
   "metadata": {},
   "outputs": [
    {
     "name": "stdout",
     "output_type": "stream",
     "text": [
      "[1, 100, 101, 102, 4, 5]\n"
     ]
    }
   ],
   "source": [
    "L=[1, 2, 3, 4, 5]\n",
    "L[1:3] = (100, 101, 102)\n",
    "print(L)"
   ]
  },
  {
   "cell_type": "markdown",
   "id": "7d666d37",
   "metadata": {},
   "source": [
    "6) 위치 1부터 3 전까지의 항목들을 100, 101, 102로 바꾸어 아래와 같은 결과가 나왔습니다."
   ]
  },
  {
   "cell_type": "code",
   "execution_count": 9,
   "id": "359ed55c",
   "metadata": {},
   "outputs": [
    {
     "name": "stdout",
     "output_type": "stream",
     "text": [
      "[1, 100, 101, 102, 4, 5]\n"
     ]
    }
   ],
   "source": [
    "L=[1, 2, 3, 4, 5]\n",
    "L[1:3] = [100, 101, 102]\n",
    "print(L)"
   ]
  },
  {
   "cell_type": "markdown",
   "id": "a3981156",
   "metadata": {},
   "source": [
    "7) 위치 1부터 3전까지 튜플을 항목으로 가지는 리스트를 넣었기 때문에 아래와 같은 결과가 나왔습니다."
   ]
  },
  {
   "cell_type": "code",
   "execution_count": 10,
   "id": "b2fd708a",
   "metadata": {},
   "outputs": [
    {
     "name": "stdout",
     "output_type": "stream",
     "text": [
      "[1, (100, 101, 102), 4, 5]\n"
     ]
    }
   ],
   "source": [
    "L=[1, 2, 3, 4, 5]\n",
    "L[1:3] = [(100, 101, 102)]\n",
    "print(L)"
   ]
  },
  {
   "cell_type": "markdown",
   "id": "f4ac7caf",
   "metadata": {},
   "source": [
    "8) 위치 1부터 3전까지에 [100, 101, 102]를 항목으로 가지는 리스트를 넣어 아래와 같은 결과가 나왔습니다."
   ]
  },
  {
   "cell_type": "code",
   "execution_count": 11,
   "id": "b8541449",
   "metadata": {},
   "outputs": [
    {
     "name": "stdout",
     "output_type": "stream",
     "text": [
      "[1, [100, 101, 102], 4, 5]\n"
     ]
    }
   ],
   "source": [
    "L=[1, 2, 3, 4, 5]\n",
    "L[1:3] = [[100, 101, 102]]\n",
    "print(L)"
   ]
  },
  {
   "cell_type": "markdown",
   "id": "ecb102ab",
   "metadata": {},
   "source": [
    "##### 2. 문자열 S = 'Hello World and Python'에 대해 다음 요구사항에 대한 Python 코드를 제시하시오."
   ]
  },
  {
   "cell_type": "code",
   "execution_count": 22,
   "id": "218f896e",
   "metadata": {},
   "outputs": [
    {
     "data": {
      "text/plain": [
       "'Hello World and Python'"
      ]
     },
     "execution_count": 22,
     "metadata": {},
     "output_type": "execute_result"
    }
   ],
   "source": [
    "# 1)\n",
    "S = 'Hello World and Python'\n",
    "S = S.split()\n",
    "S = ' '.join(S)\n",
    "S"
   ]
  },
  {
   "cell_type": "code",
   "execution_count": 18,
   "id": "695729d0",
   "metadata": {},
   "outputs": [
    {
     "name": "stdout",
     "output_type": "stream",
     "text": [
      "nohtyPdnadlroWolleH\n"
     ]
    }
   ],
   "source": [
    "# 2)\n",
    "S = S.split()\n",
    "print(''.join(S))"
   ]
  },
  {
   "cell_type": "markdown",
   "id": "6dd48bd3",
   "metadata": {},
   "source": [
    "##### 3. 다음 코드를 보고 물음에 답하시오."
   ]
  },
  {
   "cell_type": "markdown",
   "id": "6d639544",
   "metadata": {},
   "source": [
    "1) 위 코드를 수행한 이후 다음 코드를 수행한 후 b와 c의 내용을 확인하시오."
   ]
  },
  {
   "cell_type": "code",
   "execution_count": 23,
   "id": "d90d18f7",
   "metadata": {},
   "outputs": [
    {
     "name": "stdout",
     "output_type": "stream",
     "text": [
      "[1, 2, 3, 1, 2, 3, 1, 2, 3]\n",
      "[[0, 2, 3], [0, 2, 3], [0, 2, 3]]\n"
     ]
    }
   ],
   "source": [
    "a = [1, 2, 3]\n",
    "b = a * 3\n",
    "c = [a] * 3\n",
    "a[0]=0\n",
    "print(b)\n",
    "print(c)"
   ]
  },
  {
   "cell_type": "markdown",
   "id": "aff09b52",
   "metadata": {},
   "source": [
    "2) b와 c 객체의 차이는 무엇인가?\n"
   ]
  },
  {
   "cell_type": "markdown",
   "id": "e27bc279",
   "metadata": {},
   "source": [
    "아마도 b는 a의 값을 받아오고 c는 a와 같은 곳을 가르킨다"
   ]
  },
  {
   "cell_type": "markdown",
   "id": "bf639d67",
   "metadata": {},
   "source": [
    "##### 4. 다음 문자열을 ':'을 기준으로 분리하여 리스트로 만들고 각 문자열의 좌우 공백을 제거하시오 (즉, 문자열 S에서 l을 만들어라)"
   ]
  },
  {
   "cell_type": "markdown",
   "id": "c9c0fc9b",
   "metadata": {},
   "source": [
    "- s = '  first star   :   second star   :    third star  '\n",
    "- l = ['first star', 'second star', 'third star']"
   ]
  },
  {
   "cell_type": "code",
   "execution_count": 59,
   "id": "48868801",
   "metadata": {},
   "outputs": [
    {
     "name": "stdout",
     "output_type": "stream",
     "text": [
      "['first star', 'second star', 'third star']\n"
     ]
    }
   ],
   "source": [
    "# 1) for~in 문을 이용한 코드\n",
    "\n",
    "s = 'first star : second star : third star'\n",
    "i = []      \n",
    "for n in range(0, 3):\n",
    "    i.append(s.split(' : ')[n])\n",
    "\n",
    "print(i)"
   ]
  },
  {
   "cell_type": "code",
   "execution_count": 61,
   "id": "05a0f634",
   "metadata": {},
   "outputs": [
    {
     "name": "stdout",
     "output_type": "stream",
     "text": [
      "['first star', 'second star', 'third star']\n"
     ]
    }
   ],
   "source": [
    "# 2) 리스트내포를 이용한 코드\n",
    "\n",
    "s = 'first star : second star : third star'\n",
    "i = []      \n",
    "i = [s.split(' : ')[n] for n in range(0, 3)]\n",
    "print(i)"
   ]
  },
  {
   "cell_type": "markdown",
   "id": "12099cea",
   "metadata": {},
   "source": [
    "##### 5. 다음과 같이 0보다 큰 정수 리스트 변수 list를 인자로 받는 함수 addall(list)와 addallodd(list)를 for ~ in 리터널과 리스트 내포 방식으로 각각 제시하시오."
   ]
  },
  {
   "cell_type": "markdown",
   "id": "4029fd04",
   "metadata": {},
   "source": [
    "1) addall(list) 함수 (리스트 내의 모든 정수를 더하는 함수로서 해답으로는 for ~ in 리터럴과 리스트 내포 방식으로 각각 제시하시오.)"
   ]
  },
  {
   "cell_type": "code",
   "execution_count": 103,
   "id": "41e2a2ab",
   "metadata": {},
   "outputs": [
    {
     "data": {
      "text/plain": [
       "45"
      ]
     },
     "execution_count": 103,
     "metadata": {},
     "output_type": "execute_result"
    }
   ],
   "source": [
    "# for~in 방식\n",
    "def addall(li):\n",
    "    return sum(li)\n",
    "li = [1, 2, 3, 4, 5, 6, 7, 8, 9]\n",
    "addall(li)"
   ]
  },
  {
   "cell_type": "code",
   "execution_count": 102,
   "id": "17ec3aff",
   "metadata": {},
   "outputs": [
    {
     "data": {
      "text/plain": [
       "45"
      ]
     },
     "execution_count": 102,
     "metadata": {},
     "output_type": "execute_result"
    }
   ],
   "source": [
    "# 리스트내포 방식\n",
    "def addall(li):\n",
    "    return sum([n for n in li])\n",
    "li = [1, 2, 3, 4, 5, 6, 7, 8, 9]\n",
    "addall(li)"
   ]
  },
  {
   "cell_type": "markdown",
   "id": "cfb0840a",
   "metadata": {},
   "source": [
    "2) addallodd(list) 함수 (리스트내의 모든 홀수를 더하는 함수로서 해답으로는 for ~ in 리터럴과 리스트 내포 방식으로 각각 제시하시오.)"
   ]
  },
  {
   "cell_type": "code",
   "execution_count": 98,
   "id": "941fe6c3",
   "metadata": {},
   "outputs": [
    {
     "data": {
      "text/plain": [
       "25"
      ]
     },
     "execution_count": 98,
     "metadata": {},
     "output_type": "execute_result"
    }
   ],
   "source": [
    "# for~in 방식\n",
    "def addallodd(li):\n",
    "    for n in li:\n",
    "        if n%2 != 1:\n",
    "            li.remove(n)\n",
    "    return sum(li)\n",
    "li = [1, 2, 3, 4, 5, 6, 7, 8, 9]\n",
    "addallodd(list)"
   ]
  },
  {
   "cell_type": "code",
   "execution_count": 97,
   "id": "77db325b",
   "metadata": {},
   "outputs": [
    {
     "data": {
      "text/plain": [
       "25"
      ]
     },
     "execution_count": 97,
     "metadata": {},
     "output_type": "execute_result"
    }
   ],
   "source": [
    "# 리스트내포 방식\n",
    "def addallodd(li):\n",
    "    return sum([n for n in li if n%2 == 1])\n",
    "li = [1, 2, 3, 4, 5, 6, 7, 8, 9]\n",
    "addallodd(li)"
   ]
  },
  {
   "cell_type": "markdown",
   "id": "1535d46b",
   "metadata": {},
   "source": [
    "##### 6. 다음 코드를 보고 물음에 답하시오."
   ]
  },
  {
   "cell_type": "markdown",
   "id": "5bd381d1",
   "metadata": {},
   "source": [
    "- L1 = [1, 2, 3]\n",
    "- L2 = [4, 5, 6]\n",
    "- d = {'low':L1, 'high':L2}\n",
    "- e = d\n",
    "- f = d.copy()\n",
    "- print(d)\n",
    "- print(e)\n",
    "- print(f)\n",
    "- print()\n",
    "- d['low'] = [10, 20, 30]\n",
    "- d['high'][1] = 500\n",
    "- print(d)\n",
    "- print(e)\n",
    "- print(f)"
   ]
  },
  {
   "cell_type": "markdown",
   "id": "00c40c63",
   "metadata": {},
   "source": [
    "1) 위 코드의 수행 결과 d와 e는 항상 같은 결과를 출력한다. 그 이유는 무엇인가?"
   ]
  },
  {
   "cell_type": "markdown",
   "id": "0056c72c",
   "metadata": {},
   "source": [
    "d와 e가 항상 같은 결과를 출력하는 이유는 list는 mutable하기 때문에 e에 d를 할당하면 같은 메모리주소를 바라보게 되고 d를 변경하면 e도 바뀝니다."
   ]
  },
  {
   "cell_type": "markdown",
   "id": "37ef40c3",
   "metadata": {},
   "source": [
    "2) 위 코드의 수행 결과 마지막 f의 내용은 다음과 같다. 이 때 'high' 키의 값 내용 중 500이 출력된 이유와 'low' 키의 값 내용 중 [1, 2, 3]이 출력된 이유를 설명하시오 ([hint]: shallow copy 관점에서 설명하시오.)"
   ]
  },
  {
   "cell_type": "markdown",
   "id": "cbdea338",
   "metadata": {},
   "source": [
    "copy 메소드를 이용해 복사할 경우에는 d와 f가 다른 메모리주소를 바라보지만 그 내부의 객체는 같은 주소를 바라보고있습니다. 그렇기 때문에 f의 low키 값은 변하지 않았지만 f['high'][1]값은 d가 변경되면서 함께 변경되어 다음과 같이 출력되었습니다.\n",
    "{'high': [4, 500, 6], 'low': [1, 2, 3]} "
   ]
  },
  {
   "cell_type": "markdown",
   "id": "e84de310",
   "metadata": {},
   "source": [
    "##### 7. 사전 d = {'one':1, 'two':2, 'three':3, 'four':4, 'five':5}가 주어졌을 때 다음 요구사항에 맞는 코드를 제시하시오"
   ]
  },
  {
   "cell_type": "code",
   "execution_count": 4,
   "id": "7cd809e9",
   "metadata": {},
   "outputs": [],
   "source": [
    "d = {'one':1, 'two':2, 'three':3, 'four':4, 'five':5}\n"
   ]
  },
  {
   "cell_type": "code",
   "execution_count": 17,
   "id": "396eff1d",
   "metadata": {},
   "outputs": [
    {
     "name": "stdout",
     "output_type": "stream",
     "text": [
      "19\n"
     ]
    },
    {
     "data": {
      "text/plain": [
       "False"
      ]
     },
     "execution_count": 17,
     "metadata": {},
     "output_type": "execute_result"
    }
   ],
   "source": [
    "import sys\n",
    "sys.setrecursionlimit(10000)\n",
    "x = 6012302549522098651\n",
    "def length(x) :\n",
    "    n = 0\n",
    "    while x >= 10 :\n",
    "        x = x / 10\n",
    "        n += 1 \n",
    "    return n + 1\n",
    "\n",
    "def isStrange(num):\n",
    "    if (num >= 0 and length(num) == 1):\n",
    "        return True\n",
    "    elif(length(num) > 1):\n",
    "        if num%length(num) == 0 and isStrange(num/length(num)) :\n",
    "            return True\n",
    "        else:\n",
    "            return False\n",
    "    \n",
    "#    return False # or False or isStrange(매개변수 숫자)\n",
    "\n",
    "print(length(x))\n",
    "isStrange(x)"
   ]
  },
  {
   "cell_type": "code",
   "execution_count": null,
   "id": "6b98e5b6",
   "metadata": {},
   "outputs": [],
   "source": [
    "a = [1, 2, 1, 1, 1, 2, 1, 3]\n",
    "max = 3\n",
    "a_sum = 12\n",
    "end = 0\n",
    "for n in range(max, a_sum):\n",
    "    start = 0\n",
    "    end = 0\n",
    "    for end in range(start, len(a)):\n",
    "        if n == sum(a[start:end]):\n",
    "            r = 1\n",
    "            break\n",
    "        elif (n < sum(a[start:end]):\n",
    "            r = 0\n",
    "            break\n",
    "    start = end\n",
    "    if r ==1:\n",
    "        print(n)\n",
    "        break\n",
    "\n",
    "    \n",
    "            \n",
    "        \n",
    "        \n",
    "        \n",
    "    "
   ]
  },
  {
   "cell_type": "code",
   "execution_count": null,
   "id": "a3953109",
   "metadata": {},
   "outputs": [],
   "source": []
  }
 ],
 "metadata": {
  "kernelspec": {
   "display_name": "Python 3",
   "language": "python",
   "name": "python3"
  },
  "language_info": {
   "codemirror_mode": {
    "name": "ipython",
    "version": 3
   },
   "file_extension": ".py",
   "mimetype": "text/x-python",
   "name": "python",
   "nbconvert_exporter": "python",
   "pygments_lexer": "ipython3",
   "version": "3.8.8"
  }
 },
 "nbformat": 4,
 "nbformat_minor": 5
}
