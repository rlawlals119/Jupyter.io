{
 "cells": [
  {
   "cell_type": "markdown",
   "id": "ef4ab8d9",
   "metadata": {},
   "source": [
    "##### 1. L=[1, 2, 3, 4, 5]일 때 다음 각 문장을 수행한 후의 결과를 보고 납득할 만한 이유를 설명하시오."
   ]
  },
  {
   "cell_type": "markdown",
   "id": "5b3bcae3",
   "metadata": {},
   "source": [
    "1) 위치 1부터 3앞까지의 항목들을 100으로 바꾸었기 때문에 아래와 같은 결과가 나왔습니다."
   ]
  },
  {
   "cell_type": "code",
   "execution_count": 2,
   "id": "dd40c3b1",
   "metadata": {},
   "outputs": [
    {
     "name": "stdout",
     "output_type": "stream",
     "text": [
      "[1, 100, 4, 5]\n"
     ]
    }
   ],
   "source": [
    "L=[1, 2, 3, 4, 5]\n",
    "L[1:3] = [100]\n",
    "print(L)"
   ]
  },
  {
   "cell_type": "markdown",
   "id": "a85ed4ad",
   "metadata": {},
   "source": [
    "2) 위치 1부터 3앞까지의 항목들에 100을 넣어 아래와 같은 결과가 나왔습니다."
   ]
  },
  {
   "cell_type": "code",
   "execution_count": 4,
   "id": "a5df3423",
   "metadata": {},
   "outputs": [
    {
     "name": "stdout",
     "output_type": "stream",
     "text": [
      "[1, 100, 4, 5]\n"
     ]
    }
   ],
   "source": [
    "L=[1, 2, 3, 4, 5]\n",
    "L[1:3] = [(100)]\n",
    "print(L)"
   ]
  },
  {
   "cell_type": "markdown",
   "id": "e41c8606",
   "metadata": {},
   "source": [
    "3) 타입이 잘못되어 오류가 발생하였습니다."
   ]
  },
  {
   "cell_type": "code",
   "execution_count": 6,
   "id": "4a8c614a",
   "metadata": {},
   "outputs": [
    {
     "ename": "TypeError",
     "evalue": "can only assign an iterable",
     "output_type": "error",
     "traceback": [
      "\u001b[1;31m---------------------------------------------------------------------------\u001b[0m",
      "\u001b[1;31mTypeError\u001b[0m                                 Traceback (most recent call last)",
      "\u001b[1;32m<ipython-input-6-b14b6d5e9def>\u001b[0m in \u001b[0;36m<module>\u001b[1;34m\u001b[0m\n\u001b[0;32m      1\u001b[0m \u001b[0mL\u001b[0m\u001b[1;33m=\u001b[0m\u001b[1;33m[\u001b[0m\u001b[1;36m1\u001b[0m\u001b[1;33m,\u001b[0m \u001b[1;36m2\u001b[0m\u001b[1;33m,\u001b[0m \u001b[1;36m3\u001b[0m\u001b[1;33m,\u001b[0m \u001b[1;36m4\u001b[0m\u001b[1;33m,\u001b[0m \u001b[1;36m5\u001b[0m\u001b[1;33m]\u001b[0m\u001b[1;33m\u001b[0m\u001b[1;33m\u001b[0m\u001b[0m\n\u001b[1;32m----> 2\u001b[1;33m \u001b[0mL\u001b[0m\u001b[1;33m[\u001b[0m\u001b[1;36m1\u001b[0m\u001b[1;33m:\u001b[0m\u001b[1;36m3\u001b[0m\u001b[1;33m]\u001b[0m \u001b[1;33m=\u001b[0m \u001b[1;36m100\u001b[0m\u001b[1;33m\u001b[0m\u001b[1;33m\u001b[0m\u001b[0m\n\u001b[0m\u001b[0;32m      3\u001b[0m \u001b[0mprint\u001b[0m\u001b[1;33m(\u001b[0m\u001b[0mL\u001b[0m\u001b[1;33m)\u001b[0m\u001b[1;33m\u001b[0m\u001b[1;33m\u001b[0m\u001b[0m\n",
      "\u001b[1;31mTypeError\u001b[0m: can only assign an iterable"
     ]
    }
   ],
   "source": [
    "L=[1, 2, 3, 4, 5]\n",
    "L[1:3] = 100\n",
    "print(L)"
   ]
  },
  {
   "cell_type": "markdown",
   "id": "cc1876df",
   "metadata": {},
   "source": [
    "4) 3번과 같이 타입이 잘못되어 오류가 발생하였습니다."
   ]
  },
  {
   "cell_type": "code",
   "execution_count": 7,
   "id": "14c3bcfe",
   "metadata": {},
   "outputs": [
    {
     "ename": "TypeError",
     "evalue": "can only assign an iterable",
     "output_type": "error",
     "traceback": [
      "\u001b[1;31m---------------------------------------------------------------------------\u001b[0m",
      "\u001b[1;31mTypeError\u001b[0m                                 Traceback (most recent call last)",
      "\u001b[1;32m<ipython-input-7-9714c1575170>\u001b[0m in \u001b[0;36m<module>\u001b[1;34m\u001b[0m\n\u001b[0;32m      1\u001b[0m \u001b[0mL\u001b[0m\u001b[1;33m=\u001b[0m\u001b[1;33m[\u001b[0m\u001b[1;36m1\u001b[0m\u001b[1;33m,\u001b[0m \u001b[1;36m2\u001b[0m\u001b[1;33m,\u001b[0m \u001b[1;36m3\u001b[0m\u001b[1;33m,\u001b[0m \u001b[1;36m4\u001b[0m\u001b[1;33m,\u001b[0m \u001b[1;36m5\u001b[0m\u001b[1;33m]\u001b[0m\u001b[1;33m\u001b[0m\u001b[1;33m\u001b[0m\u001b[0m\n\u001b[1;32m----> 2\u001b[1;33m \u001b[0mL\u001b[0m\u001b[1;33m[\u001b[0m\u001b[1;36m1\u001b[0m\u001b[1;33m:\u001b[0m\u001b[1;36m3\u001b[0m\u001b[1;33m]\u001b[0m \u001b[1;33m=\u001b[0m \u001b[1;33m(\u001b[0m\u001b[1;36m100\u001b[0m\u001b[1;33m)\u001b[0m\u001b[1;33m\u001b[0m\u001b[1;33m\u001b[0m\u001b[0m\n\u001b[0m\u001b[0;32m      3\u001b[0m \u001b[0mprint\u001b[0m\u001b[1;33m(\u001b[0m\u001b[0mL\u001b[0m\u001b[1;33m)\u001b[0m\u001b[1;33m\u001b[0m\u001b[1;33m\u001b[0m\u001b[0m\n",
      "\u001b[1;31mTypeError\u001b[0m: can only assign an iterable"
     ]
    }
   ],
   "source": [
    "L=[1, 2, 3, 4, 5]\n",
    "L[1:3] = (100)\n",
    "print(L)"
   ]
  },
  {
   "cell_type": "markdown",
   "id": "6c395136",
   "metadata": {},
   "source": [
    "5) 위치 1부터 3전까지의 항목에 100, 101, 102를 넣어 아래와 같은 결과가 나왔습니다."
   ]
  },
  {
   "cell_type": "code",
   "execution_count": 8,
   "id": "e3834436",
   "metadata": {},
   "outputs": [
    {
     "name": "stdout",
     "output_type": "stream",
     "text": [
      "[1, 100, 101, 102, 4, 5]\n"
     ]
    }
   ],
   "source": [
    "L=[1, 2, 3, 4, 5]\n",
    "L[1:3] = (100, 101, 102)\n",
    "print(L)"
   ]
  },
  {
   "cell_type": "markdown",
   "id": "6b21477f",
   "metadata": {},
   "source": [
    "6) 위치 1부터 3 전까지의 항목들을 100, 101, 102로 바꾸어 아래와 같은 결과가 나왔습니다."
   ]
  },
  {
   "cell_type": "code",
   "execution_count": 9,
   "id": "7740bc26",
   "metadata": {},
   "outputs": [
    {
     "name": "stdout",
     "output_type": "stream",
     "text": [
      "[1, 100, 101, 102, 4, 5]\n"
     ]
    }
   ],
   "source": [
    "L=[1, 2, 3, 4, 5]\n",
    "L[1:3] = [100, 101, 102]\n",
    "print(L)"
   ]
  },
  {
   "cell_type": "markdown",
   "id": "b80447ec",
   "metadata": {},
   "source": [
    "7) 위치 1부터 3전까지 튜플을 항목으로 가지는 리스트를 넣었기 때문에 아래와 같은 결과가 나왔습니다."
   ]
  },
  {
   "cell_type": "code",
   "execution_count": 10,
   "id": "c584db8e",
   "metadata": {},
   "outputs": [
    {
     "name": "stdout",
     "output_type": "stream",
     "text": [
      "[1, (100, 101, 102), 4, 5]\n"
     ]
    }
   ],
   "source": [
    "L=[1, 2, 3, 4, 5]\n",
    "L[1:3] = [(100, 101, 102)]\n",
    "print(L)"
   ]
  },
  {
   "cell_type": "markdown",
   "id": "c6e0b91f",
   "metadata": {},
   "source": [
    "8) 위치 1부터 3전까지에 [100, 101, 102]를 항목으로 가지는 리스트를 넣어 아래와 같은 결과가 나왔습니다."
   ]
  },
  {
   "cell_type": "code",
   "execution_count": 11,
   "id": "aaee026d",
   "metadata": {},
   "outputs": [
    {
     "name": "stdout",
     "output_type": "stream",
     "text": [
      "[1, [100, 101, 102], 4, 5]\n"
     ]
    }
   ],
   "source": [
    "L=[1, 2, 3, 4, 5]\n",
    "L[1:3] = [[100, 101, 102]]\n",
    "print(L)"
   ]
  },
  {
   "cell_type": "markdown",
   "id": "9ae039ee",
   "metadata": {},
   "source": [
    "##### 2. 문자열 S = 'Hello World and Python'에 대해 다음 요구사항에 대한 Python 코드를 제시하시오."
   ]
  },
  {
   "cell_type": "code",
   "execution_count": 22,
   "id": "cd33d235",
   "metadata": {},
   "outputs": [
    {
     "data": {
      "text/plain": [
       "'Hello World and Python'"
      ]
     },
     "execution_count": 22,
     "metadata": {},
     "output_type": "execute_result"
    }
   ],
   "source": [
    "# 1)\n",
    "S = 'Hello World and Python'\n",
    "S = S.split()\n",
    "S = ' '.join(S)\n",
    "S"
   ]
  },
  {
   "cell_type": "code",
   "execution_count": 18,
   "id": "e9f7ad74",
   "metadata": {},
   "outputs": [
    {
     "name": "stdout",
     "output_type": "stream",
     "text": [
      "nohtyPdnadlroWolleH\n"
     ]
    }
   ],
   "source": [
    "# 2)\n",
    "S = S.split()\n",
    "print(''.join(S))"
   ]
  },
  {
   "cell_type": "markdown",
   "id": "9c8565fb",
   "metadata": {},
   "source": [
    "##### 3. 다음 코드를 보고 물음에 답하시오."
   ]
  },
  {
   "cell_type": "markdown",
   "id": "b8015480",
   "metadata": {},
   "source": [
    "1) 위 코드를 수행한 이후 다음 코드를 수행한 후 b와 c의 내용을 확인하시오."
   ]
  },
  {
   "cell_type": "code",
   "execution_count": 23,
   "id": "c9593e82",
   "metadata": {},
   "outputs": [
    {
     "name": "stdout",
     "output_type": "stream",
     "text": [
      "[1, 2, 3, 1, 2, 3, 1, 2, 3]\n",
      "[[0, 2, 3], [0, 2, 3], [0, 2, 3]]\n"
     ]
    }
   ],
   "source": [
    "a = [1, 2, 3]\n",
    "b = a * 3\n",
    "c = [a] * 3\n",
    "a[0]=0\n",
    "print(b)\n",
    "print(c)"
   ]
  },
  {
   "cell_type": "markdown",
   "id": "fa3d1586",
   "metadata": {},
   "source": [
    "2) b와 c 객체의 차이는 무엇인가?\n"
   ]
  },
  {
   "cell_type": "markdown",
   "id": "fdf5265b",
   "metadata": {},
   "source": [
    "아마도 b는 a의 값을 받아오고 c는 a와 같은 곳을 가르킨다"
   ]
  },
  {
   "cell_type": "markdown",
   "id": "cd7da1f1",
   "metadata": {},
   "source": [
    "##### 4. 다음 문자열을 ':'을 기준으로 분리하여 리스트로 만들고 각 문자열의 좌우 공백을 제거하시오 (즉, 문자열 S에서 l을 만들어라)"
   ]
  },
  {
   "cell_type": "markdown",
   "id": "c65d28a3",
   "metadata": {},
   "source": [
    "- s = '  first star   :   second star   :    third star  '\n",
    "- l = ['first star', 'second star', 'third star']"
   ]
  },
  {
   "cell_type": "code",
   "execution_count": 59,
   "id": "70cc1e0f",
   "metadata": {},
   "outputs": [
    {
     "name": "stdout",
     "output_type": "stream",
     "text": [
      "['first star', 'second star', 'third star']\n"
     ]
    }
   ],
   "source": [
    "# 1) for~in 문을 이용한 코드\n",
    "\n",
    "s = 'first star : second star : third star'\n",
    "i = []      \n",
    "for n in range(0, 3):\n",
    "    i.append(s.split(' : ')[n])\n",
    "\n",
    "print(i)"
   ]
  },
  {
   "cell_type": "code",
   "execution_count": 61,
   "id": "dafe63ea",
   "metadata": {},
   "outputs": [
    {
     "name": "stdout",
     "output_type": "stream",
     "text": [
      "['first star', 'second star', 'third star']\n"
     ]
    }
   ],
   "source": [
    "# 2) 리스트내포를 이용한 코드\n",
    "\n",
    "s = 'first star : second star : third star'\n",
    "i = []      \n",
    "i = [s.split(' : ')[n] for n in range(0, 3)]\n",
    "print(i)"
   ]
  },
  {
   "cell_type": "markdown",
   "id": "db8cb98c",
   "metadata": {},
   "source": [
    "##### 5. 다음과 같이 0보다 큰 정수 리스트 변수 list를 인자로 받는 함수 addall(list)와 addallodd(list)를 for ~ in 리터널과 리스트 내포 방식으로 각각 제시하시오."
   ]
  },
  {
   "cell_type": "markdown",
   "id": "da6e01e4",
   "metadata": {},
   "source": [
    "1) addall(list) 함수 (리스트 내의 모든 정수를 더하는 함수로서 해답으로는 for ~ in 리터럴과 리스트 내포 방식으로 각각 제시하시오.)"
   ]
  },
  {
   "cell_type": "code",
   "execution_count": 103,
   "id": "f7719083",
   "metadata": {},
   "outputs": [
    {
     "data": {
      "text/plain": [
       "45"
      ]
     },
     "execution_count": 103,
     "metadata": {},
     "output_type": "execute_result"
    }
   ],
   "source": [
    "# for~in 방식\n",
    "def addall(li):\n",
    "    return sum(li)\n",
    "li = [1, 2, 3, 4, 5, 6, 7, 8, 9]\n",
    "addall(li)"
   ]
  },
  {
   "cell_type": "code",
   "execution_count": 102,
   "id": "c8cb690b",
   "metadata": {},
   "outputs": [
    {
     "data": {
      "text/plain": [
       "45"
      ]
     },
     "execution_count": 102,
     "metadata": {},
     "output_type": "execute_result"
    }
   ],
   "source": [
    "# 리스트내포 방식\n",
    "def addall(li):\n",
    "    return sum([n for n in li])\n",
    "li = [1, 2, 3, 4, 5, 6, 7, 8, 9]\n",
    "addall(li)"
   ]
  },
  {
   "cell_type": "markdown",
   "id": "f57a8d3c",
   "metadata": {},
   "source": [
    "2) addallodd(list) 함수 (리스트내의 모든 홀수를 더하는 함수로서 해답으로는 for ~ in 리터럴과 리스트 내포 방식으로 각각 제시하시오.)"
   ]
  },
  {
   "cell_type": "code",
   "execution_count": 98,
   "id": "ddb1b79a",
   "metadata": {},
   "outputs": [
    {
     "data": {
      "text/plain": [
       "25"
      ]
     },
     "execution_count": 98,
     "metadata": {},
     "output_type": "execute_result"
    }
   ],
   "source": [
    "# for~in 방식\n",
    "def addallodd(li):\n",
    "    for n in li:\n",
    "        if n%2 != 1:\n",
    "            li.remove(n)\n",
    "    return sum(li)\n",
    "li = [1, 2, 3, 4, 5, 6, 7, 8, 9]\n",
    "addallodd(list)"
   ]
  },
  {
   "cell_type": "code",
   "execution_count": 97,
   "id": "9e01d131",
   "metadata": {},
   "outputs": [
    {
     "data": {
      "text/plain": [
       "25"
      ]
     },
     "execution_count": 97,
     "metadata": {},
     "output_type": "execute_result"
    }
   ],
   "source": [
    "# 리스트내포 방식\n",
    "def addallodd(li):\n",
    "    return sum([n for n in li if n%2 == 1])\n",
    "li = [1, 2, 3, 4, 5, 6, 7, 8, 9]\n",
    "addallodd(li)"
   ]
  },
  {
   "cell_type": "markdown",
   "id": "6044d0cf",
   "metadata": {},
   "source": [
    "##### 6. 다음 코드를 보고 물음에 답하시오."
   ]
  },
  {
   "cell_type": "markdown",
   "id": "583a508d",
   "metadata": {},
   "source": [
    "- L1 = [1, 2, 3]\n",
    "- L2 = [4, 5, 6]\n",
    "- d = {'low':L1, 'high':L2}\n",
    "- e = d\n",
    "- f = d.copy()\n",
    "- print(d)\n",
    "- print(e)\n",
    "- print(f)\n",
    "- print()\n",
    "- d['low'] = [10, 20, 30]\n",
    "- d['high'][1] = 500\n",
    "- print(d)\n",
    "- print(e)\n",
    "- print(f)"
   ]
  },
  {
   "cell_type": "markdown",
   "id": "34c79550",
   "metadata": {},
   "source": [
    "1) 위 코드의 수행 결과 d와 e는 항상 같은 결과를 출력한다. 그 이유는 무엇인가?"
   ]
  },
  {
   "cell_type": "markdown",
   "id": "40577037",
   "metadata": {},
   "source": [
    "d와 e가 항상 같은 결과를 출력하는 이유는 list는 mutable하기 때문에 e에 d를 할당하면 같은 메모리주소를 바라보게 되고 d를 변경하면 e도 바뀝니다."
   ]
  },
  {
   "cell_type": "markdown",
   "id": "8b226eec",
   "metadata": {},
   "source": [
    "2) 위 코드의 수행 결과 마지막 f의 내용은 다음과 같다. 이 때 'high' 키의 값 내용 중 500이 출력된 이유와 'low' 키의 값 내용 중 [1, 2, 3]이 출력된 이유를 설명하시오 ([hint]: shallow copy 관점에서 설명하시오.)"
   ]
  },
  {
   "cell_type": "markdown",
   "id": "4d6658ac",
   "metadata": {},
   "source": [
    "copy 메소드를 이용해 복사할 경우에는 d와 f가 다른 메모리주소를 바라보지만 그 내부의 객체는 같은 주소를 바라보고있습니다. 그렇기 때문에 f의 low키 값은 변하지 않았지만 f['high'][1]값은 d가 변경되면서 함께 변경되어 다음과 같이 출력되었습니다.\n",
    "{'high': [4, 500, 6], 'low': [1, 2, 3]} "
   ]
  },
  {
   "cell_type": "markdown",
   "id": "a48f42f8",
   "metadata": {},
   "source": [
    "##### 7. 사전 d = {'one':1, 'two':2, 'three':3, 'four':4, 'five':5}가 주어졌을 때 다음 요구사항에 맞는 코드를 제시하시오"
   ]
  },
  {
   "cell_type": "code",
   "execution_count": 4,
   "id": "9788c9fd",
   "metadata": {},
   "outputs": [],
   "source": [
    "d = {'one':1, 'two':2, 'three':3, 'four':4, 'five':5}\n"
   ]
  },
  {
   "cell_type": "code",
   "execution_count": 17,
   "id": "0192bd69",
   "metadata": {},
   "outputs": [
    {
     "name": "stdout",
     "output_type": "stream",
     "text": [
      "19\n"
     ]
    },
    {
     "data": {
      "text/plain": [
       "False"
      ]
     },
     "execution_count": 17,
     "metadata": {},
     "output_type": "execute_result"
    }
   ],
   "source": [
    "import sys\n",
    "sys.setrecursionlimit(10000)\n",
    "x = 6012302549522098651\n",
    "def length(x) :\n",
    "    n = 0\n",
    "    while x >= 10 :\n",
    "        x = x / 10\n",
    "        n += 1 \n",
    "    return n + 1\n",
    "\n",
    "def isStrange(num):\n",
    "    if (num >= 0 and length(num) == 1):\n",
    "        return True\n",
    "    elif(length(num) > 1):\n",
    "        if num%length(num) == 0 and isStrange(num/length(num)) :\n",
    "            return True\n",
    "        else:\n",
    "            return False\n",
    "    \n",
    "#    return False # or False or isStrange(매개변수 숫자)\n",
    "\n",
    "print(length(x))\n",
    "isStrange(x)"
   ]
  },
  {
   "cell_type": "code",
   "execution_count": null,
   "id": "53cc250c",
   "metadata": {},
   "outputs": [],
   "source": [
    "a = [1, 2, 1, 1, 1, 2, 1, 3]\n",
    "max = 3\n",
    "a_sum = 12\n",
    "end = 0\n",
    "for n in range(max, a_sum):\n",
    "    start = 0\n",
    "    end = 0\n",
    "    for end in range(start, len(a)):\n",
    "        if n == sum(a[start:end]):\n",
    "            r = 1\n",
    "            break\n",
    "        elif (n < sum(a[start:end]):\n",
    "            r = 0\n",
    "            break\n",
    "    start = end\n",
    "    if r ==1:\n",
    "        print(n)\n",
    "        break\n",
    "\n",
    "    \n",
    "            \n",
    "        \n",
    "        \n",
    "        \n",
    "    "
   ]
  },
  {
   "cell_type": "code",
   "execution_count": 18,
   "id": "186c4715",
   "metadata": {},
   "outputs": [
    {
     "name": "stdout",
     "output_type": "stream",
     "text": [
      "{'컴퓨터공학부': 8, 'Study': 1, 'Fun': 1, '로그인': 1, '유지': 2, '닫더라도': 1, '계속': 1, '수': 2, '사용할': 1, '다음': 1, '로그인할': 1, '없습니다': 1, '게임방': 1, '등': 1, '이용': 1, '개인정보가': 1, '있으니': 1, '로그아웃을': 1, '회원가입': 1, '찾기': 1, '교육의': 2, '메카한국기술교육대학교': 1, '소개': 1, '학사안내': 1, '학부': 1, '학부광장': 1, '대학원': 2, 'Registration': 1, 'of': 2, 'Science': 1, 'Engineering': 1, '국내': 3, '실천공학과': 2, '창조적': 2, 'IPP사업단': 2, '장기현장실습': 2, 'IT': 2, '한국기술교육대학교': 5, '오신': 1, '대학혁신산업단': 1, '인적자원개발의': 2, '기업연계형': 2, '공지사항': 1, '실험실': 1, '이수': 1, '20211015': 1, '1050': 2, '전시회': 2, '졸업작품': 8, '20211008': 1, '1342': 2, '판넬': 1, '20211006': 1, '1110': 2, '최종발표': 2, '안내': 1, '1302': 2, '2021년': 4, '0941': 2, '자유게시판': 1, '연구실': 1, '모집': 4, '2335': 2, '※': 2, 'Lab': 1, '지도교수': 1, '20211014': 2, 'BCSD': 1, '21하반기': 1, '모집합니다': 1, '1134': 2, '아르바이트생': 1, '근무730': 1, '1316': 2, '바스젠바이오': 1, '전처리': 1, 'AI': 2, '테스트': 1, '20210712': 1, '1805': 2, '전문연구요원': 2, '모집서버클라': 1, '1038': 2, 'LG': 1, '신입학사The': 1, 'DX': 1, '20210927': 3, '2021': 1, '코스맥스그룹': 1, '0909': 2, '경찰대학': 1, '임기제': 1, '전산직': 1, '1031': 2, '화성': 1, '인턴': 1, '20210913': 1, '0910': 2, '전자신문': 1, '기획·개발': 1, '강릉국제영화제': 1, '1444': 2, 'KT': 1, '한진': 1, '기반': 1, '혁신': 1, '1443': 2, '케이티시즌': 1, '영화': 1, '레코드': 1, '20211022': 3, '독립법인': 1, '기념': 1, '이용권': 1, '할인': 1, '1838': 2, 'U알뜰모바일': 1, '편의점': 1, '구독': 1, '20211021': 3, 'Watch': 1, '‘Unleashed’': 1, 'live': 1, 'here': 1, '1926': 2, 'China': 1, 'Be': 1, 'Internet': 1, 'Pr': 1, '1908': 2, 'The': 1, 'Trailer': 1, 'Batman': 1, 'Have': 1, '20211018': 5, 'Supergirl': 1, 'Superman': 1, 'Story': 1, '0431': 3, 'Six': 1, 'Should': 1, 'SpiderMan': 1, 'Navigation': 1, 'WEBMAIL': 1, '평생교육원': 1, '업무': 1, 'Campus': 1, 'Contact': 1, '충청남도': 2, '동남구': 2, '충절로': 2, '학과사무실': 1, '041': 2, '1460': 1, 'FAX': 1, '1462': 1, '31253': 1, '병천면': 2, 'Copyright': 1, '2015': 1, 'rights': 1}\n",
      "{'컴퓨터공학부': 8, 'Study': 1, 'Fun': 1, '로그인': 1, '유지': 2, '닫더라도': 1, '계속': 1, '수': 2, '사용할': 1, '다음': 1, '로그인할': 1, '없습니다': 1, '게임방': 1, '등': 1, '이용': 1, '개인정보가': 1, '있으니': 1, '로그아웃을': 1, '회원가입': 1, '찾기': 1, '교육의': 2, '메카한국기술교육대학교': 1, '소개': 1, '학사안내': 1, '학부': 1, '학부광장': 1, '대학원': 2, 'Registration': 1, 'of': 2, 'Science': 1, 'Engineering': 1, '국내': 3, '실천공학과': 2, '창조적': 2, 'IPP사업단': 2, '장기현장실습': 2, 'IT': 2, '한국기술교육대학교': 5, '오신': 1, '대학혁신산업단': 1, '인적자원개발의': 2, '기업연계형': 2, '공지사항': 1, '실험실': 1, '이수': 1, '20211015': 1, '1050': 2, '전시회': 2, '졸업작품': 8, '20211008': 1, '1342': 2, '판넬': 1, '20211006': 1, '1110': 2, '최종발표': 2, '안내': 1, '1302': 2, '2021년': 4, '0941': 2, '자유게시판': 1, '연구실': 1, '모집': 4, '2335': 2, '※': 2, 'Lab': 1, '지도교수': 1, '20211014': 2, 'BCSD': 1, '21하반기': 1, '모집합니다': 1, '1134': 2, '아르바이트생': 1, '근무730': 1, '1316': 2, '바스젠바이오': 1, '전처리': 1, 'AI': 2, '테스트': 1, '20210712': 1, '1805': 2, '전문연구요원': 2, '모집서버클라': 1, '1038': 2, 'LG': 1, '신입학사The': 1, 'DX': 1, '20210927': 3, '2021': 1, '코스맥스그룹': 1, '0909': 2, '경찰대학': 1, '임기제': 1, '전산직': 1, '1031': 2, '화성': 1, '인턴': 1, '20210913': 1, '0910': 2, '전자신문': 1, '기획·개발': 1, '강릉국제영화제': 1, '1444': 2, 'KT': 1, '한진': 1, '기반': 1, '혁신': 1, '1443': 2, '케이티시즌': 1, '영화': 1, '레코드': 1, '20211022': 3, '독립법인': 1, '기념': 1, '이용권': 1, '할인': 1, '1838': 2, 'U알뜰모바일': 1, '편의점': 1, '구독': 1, '20211021': 3, 'Watch': 1, '‘Unleashed’': 1, 'live': 1, 'here': 1, '1926': 2, 'China': 1, 'Be': 1, 'Internet': 1, 'Pr': 1, '1908': 2, 'The': 1, 'Trailer': 1, 'Batman': 1, 'Have': 1, '20211018': 5, 'Supergirl': 1, 'Superman': 1, 'Story': 1, '0431': 3, 'Six': 1, 'Should': 1, 'SpiderMan': 1, 'Navigation': 1, 'WEBMAIL': 1, '평생교육원': 1, '업무': 1, 'Campus': 1, 'Contact': 1, '충청남도': 2, '동남구': 2, '충절로': 2, '학과사무실': 1, '041': 2, '1460': 1, 'FAX': 1, '1462': 1, '31253': 1, '병천면': 2, 'Copyright': 1, '2015': 1, 'rights': 1}\n",
      "{'컴퓨터공학부': 8, 'Study': 1, 'Fun': 1, '로그인': 1, '유지': 2, '닫더라도': 1, '계속': 1, '수': 2, '사용할': 1, '다음': 1, '로그인할': 1, '없습니다': 1, '게임방': 1, '등': 1, '이용': 1, '개인정보가': 1, '있으니': 1, '로그아웃을': 1, '회원가입': 1, '찾기': 1, '교육의': 2, '메카한국기술교육대학교': 1, '소개': 1, '학사안내': 1, '학부': 1, '학부광장': 1, '대학원': 2, 'Registration': 1, 'of': 2, 'Science': 1, 'Engineering': 1, '국내': 3, '실천공학과': 2, '창조적': 2, 'IPP사업단': 2, '장기현장실습': 2, 'IT': 2, '한국기술교육대학교': 5, '오신': 1, '대학혁신산업단': 1, '인적자원개발의': 2, '기업연계형': 2, '공지사항': 1, '실험실': 1, '이수': 1, '20211015': 1, '1050': 2, '전시회': 2, '졸업작품': 8, '20211008': 1, '1342': 2, '판넬': 1, '20211006': 1, '1110': 2, '최종발표': 2, '안내': 1, '1302': 2, '2021년': 4, '0941': 2, '자유게시판': 1, '연구실': 1, '모집': 4, '2335': 2, '※': 2, 'Lab': 1, '지도교수': 1, '20211014': 2, 'BCSD': 1, '21하반기': 1, '모집합니다': 1, '1134': 2, '아르바이트생': 1, '근무730': 1, '1316': 2, '바스젠바이오': 1, '전처리': 1, 'AI': 2, '테스트': 1, '20210712': 1, '1805': 2, '전문연구요원': 2, '모집서버클라': 1, '1038': 2, 'LG': 1, '신입학사The': 1, 'DX': 1, '20210927': 3, '2021': 1, '코스맥스그룹': 1, '0909': 2, '경찰대학': 1, '임기제': 1, '전산직': 1, '1031': 2, '화성': 1, '인턴': 1, '20210913': 1, '0910': 2, '전자신문': 1, '기획·개발': 1, '강릉국제영화제': 1, '1444': 2, 'KT': 1, '한진': 1, '기반': 1, '혁신': 1, '1443': 2, '케이티시즌': 1, '영화': 1, '레코드': 1, '20211022': 3, '독립법인': 1, '기념': 1, '이용권': 1, '할인': 1, '1838': 2, 'U알뜰모바일': 1, '편의점': 1, '구독': 1, '20211021': 3, 'Watch': 1, '‘Unleashed’': 1, 'live': 1, 'here': 1, '1926': 2, 'China': 1, 'Be': 1, 'Internet': 1, 'Pr': 1, '1908': 2, 'The': 1, 'Trailer': 1, 'Batman': 1, 'Have': 1, '20211018': 5, 'Supergirl': 1, 'Superman': 1, 'Story': 1, '0431': 3, 'Six': 1, 'Should': 1, 'SpiderMan': 1, 'Navigation': 1, 'WEBMAIL': 1, '평생교육원': 1, '업무': 1, 'Campus': 1, 'Contact': 1, '충청남도': 2, '동남구': 2, '충절로': 2, '학과사무실': 1, '041': 2, '1460': 1, 'FAX': 1, '1462': 1, '31253': 1, '병천면': 2, 'Copyright': 1, '2015': 1, 'rights': 1}\n",
      "{'컴퓨터공학부': 8, 'Study': 1, 'Fun': 1, '로그인': 1, '유지': 2, '닫더라도': 1, '계속': 1, '수': 2, '사용할': 1, '다음': 1, '로그인할': 1, '없습니다': 1, '게임방': 1, '등': 1, '이용': 1, '개인정보가': 1, '있으니': 1, '로그아웃을': 1, '회원가입': 1, '찾기': 1, '교육의': 2, '메카한국기술교육대학교': 1, '소개': 1, '학사안내': 1, '학부': 1, '학부광장': 1, '대학원': 2, 'Registration': 1, 'of': 2, 'Science': 1, 'Engineering': 1, '국내': 3, '실천공학과': 2, '창조적': 2, 'IPP사업단': 2, '장기현장실습': 2, 'IT': 2, '한국기술교육대학교': 5, '오신': 1, '대학혁신산업단': 1, '인적자원개발의': 2, '기업연계형': 2, '공지사항': 1, '실험실': 1, '이수': 1, '20211015': 1, '1050': 2, '전시회': 2, '졸업작품': 8, '20211008': 1, '1342': 2, '판넬': 1, '20211006': 1, '1110': 2, '최종발표': 2, '안내': 1, '1302': 2, '2021년': 4, '0941': 2, '자유게시판': 1, '연구실': 1, '모집': 4, '2335': 2, '※': 2, 'Lab': 1, '지도교수': 1, '20211014': 2, 'BCSD': 1, '21하반기': 1, '모집합니다': 1, '1134': 2, '아르바이트생': 1, '근무730': 1, '1316': 2, '바스젠바이오': 1, '전처리': 1, 'AI': 2, '테스트': 1, '20210712': 1, '1805': 2, '전문연구요원': 2, '모집서버클라': 1, '1038': 2, 'LG': 1, '신입학사The': 1, 'DX': 1, '20210927': 3, '2021': 1, '코스맥스그룹': 1, '0909': 2, '경찰대학': 1, '임기제': 1, '전산직': 1, '1031': 2, '화성': 1, '인턴': 1, '20210913': 1, '0910': 2, '전자신문': 1, '기획·개발': 1, '강릉국제영화제': 1, '1444': 2, 'KT': 1, '한진': 1, '기반': 1, '혁신': 1, '1443': 2, '케이티시즌': 1, '영화': 1, '레코드': 1, '20211022': 3, '독립법인': 1, '기념': 1, '이용권': 1, '할인': 1, '1838': 2, 'U알뜰모바일': 1, '편의점': 1, '구독': 1, '20211021': 3, 'Watch': 1, '‘Unleashed’': 1, 'live': 1, 'here': 1, '1926': 2, 'China': 1, 'Be': 1, 'Internet': 1, 'Pr': 1, '1908': 2, 'The': 1, 'Trailer': 1, 'Batman': 1, 'Have': 1, '20211018': 5, 'Supergirl': 1, 'Superman': 1, 'Story': 1, '0431': 3, 'Six': 1, 'Should': 1, 'SpiderMan': 1, 'Navigation': 1, 'WEBMAIL': 1, '평생교육원': 1, '업무': 1, 'Campus': 1, 'Contact': 1, '충청남도': 2, '동남구': 2, '충절로': 2, '학과사무실': 1, '041': 2, '1460': 1, 'FAX': 1, '1462': 1, '31253': 1, '병천면': 2, 'Copyright': 1, '2015': 1, 'rights': 1}\n",
      "{'컴퓨터공학부': 8, 'Study': 1, 'Fun': 1, '로그인': 1, '유지': 2, '닫더라도': 1, '계속': 1, '수': 2, '사용할': 1, '다음': 1, '로그인할': 1, '없습니다': 1, '게임방': 1, '등': 1, '이용': 1, '개인정보가': 1, '있으니': 1, '로그아웃을': 1, '회원가입': 1, '찾기': 1, '교육의': 2, '메카한국기술교육대학교': 1, '소개': 1, '학사안내': 1, '학부': 1, '학부광장': 1, '대학원': 2, 'Registration': 1, 'of': 2, 'Science': 1, 'Engineering': 1, '국내': 3, '실천공학과': 2, '창조적': 2, 'IPP사업단': 2, '장기현장실습': 2, 'IT': 2, '한국기술교육대학교': 5, '오신': 1, '대학혁신산업단': 1, '인적자원개발의': 2, '기업연계형': 2, '공지사항': 1, '실험실': 1, '이수': 1, '20211015': 1, '1050': 2, '전시회': 2, '졸업작품': 8, '20211008': 1, '1342': 2, '판넬': 1, '20211006': 1, '1110': 2, '최종발표': 2, '안내': 1, '1302': 2, '2021년': 4, '0941': 2, '자유게시판': 1, '연구실': 1, '모집': 4, '2335': 2, '※': 2, 'Lab': 1, '지도교수': 1, '20211014': 2, 'BCSD': 1, '21하반기': 1, '모집합니다': 1, '1134': 2, '아르바이트생': 1, '근무730': 1, '1316': 2, '바스젠바이오': 1, '전처리': 1, 'AI': 2, '테스트': 1, '20210712': 1, '1805': 2, '전문연구요원': 2, '모집서버클라': 1, '1038': 2, 'LG': 1, '신입학사The': 1, 'DX': 1, '20210927': 3, '2021': 1, '코스맥스그룹': 1, '0909': 2, '경찰대학': 1, '임기제': 1, '전산직': 1, '1031': 2, '화성': 1, '인턴': 1, '20210913': 1, '0910': 2, '전자신문': 1, '기획·개발': 1, '강릉국제영화제': 1, '1444': 2, 'KT': 1, '한진': 1, '기반': 1, '혁신': 1, '1443': 2, '케이티시즌': 1, '영화': 1, '레코드': 1, '20211022': 3, '독립법인': 1, '기념': 1, '이용권': 1, '할인': 1, '1838': 2, 'U알뜰모바일': 1, '편의점': 1, '구독': 1, '20211021': 3, 'Watch': 1, '‘Unleashed’': 1, 'live': 1, 'here': 1, '1926': 2, 'China': 1, 'Be': 1, 'Internet': 1, 'Pr': 1, '1908': 2, 'The': 1, 'Trailer': 1, 'Batman': 1, 'Have': 1, '20211018': 5, 'Supergirl': 1, 'Superman': 1, 'Story': 1, '0431': 3, 'Six': 1, 'Should': 1, 'SpiderMan': 1, 'Navigation': 1, 'WEBMAIL': 1, '평생교육원': 1, '업무': 1, 'Campus': 1, 'Contact': 1, '충청남도': 2, '동남구': 2, '충절로': 2, '학과사무실': 1, '041': 2, '1460': 1, 'FAX': 1, '1462': 1, '31253': 1, '병천면': 2, 'Copyright': 1, '2015': 1, 'rights': 1}\n"
     ]
    }
   ],
   "source": [
    "# Incremental Project\n",
    "import string\n",
    "import requests\n",
    "requests.packages.urllib3.disable_warnings(requests.packages.urllib3.exceptions.InsecureRequestWarning)\n",
    "\n",
    "req1 = requests.get('https://cse.koreatech.ac.kr', verify=False)\n",
    "req2 = requests.get('https://www.koreatech.ac.kr', verify=False)\n",
    "req3 = requests.get('http://www.naver.com', verify=False)\n",
    "req4 = requests.get('http://www.daum.net', verify=False)\n",
    "req5 = requests.get('http://www.nytimes.com', verify=False)\n",
    "\n",
    "source1 = req1.text\n",
    "source2 = req2.text\n",
    "source3 = req3.text\n",
    "source4 = req4.text\n",
    "source5 = req5.text\n",
    "# print(source)\n",
    "def wordCheck(source):\n",
    "    while (\"<!--\" in source) and (\"-->\" in source):          # <!-- --> 는 주석이기 때문에 삭제\n",
    "        a = source.find('<!--')\n",
    "        b = source.find('-->')\n",
    "        source = source.replace(source[a:b+3], '')            # <!-- 의 시작 부분부터 -->의 끝 글자까지 삭제\n",
    "\n",
    "    while (\"<script\" in source) and (\"</script>\" in source): # script 태그가 포함 하는 내용 삭제\n",
    "        a = source.find('<script')\n",
    "        b = source.find('</script>')\n",
    "        source = source.replace(source[a:b+9], '')            # <script 의 시작부터 </script> 까지의 내용 삭제\n",
    "        \n",
    "    while (\"<style\" in source) and (\"</style>\" in source): # style 태그가 포함 하는 내용 삭제\n",
    "        a = source.find('<style')\n",
    "        b = source.find('</style>')\n",
    "        source = source.replace(source[a:b+8], '')            # <script 의 시작부터 </style> 까지의 내용 삭제\n",
    "        \n",
    "    for n in range(0, source.count('<')+1):                  # 태그 삭제\n",
    "        a = source.find('<')\n",
    "        b = source.find('>')\n",
    "        source = source.replace(source[a:b+1], '')           # '<'부터 '>'까지의 내용 삭제    \n",
    "    return source\n",
    "# print(source)\n",
    "\n",
    "def wordDic(source):\n",
    "    dic = {}\n",
    "    for n in source :\n",
    "        dic[n] = source.count(n)\n",
    "        i = 0\n",
    "        while n in source and i < len(source):\n",
    "            if(n == source[i]):\n",
    "                source.remove(n)\n",
    "            i = i+1\n",
    "    print(dic)\n",
    "\n",
    "source1 = wordCheck(source1)\n",
    "source2 = wordCheck(source2)\n",
    "source3 = wordCheck(source3)\n",
    "source4 = wordCheck(source4)\n",
    "source5 = wordCheck(source5)\n",
    "\n",
    "for n in range(len(string.punctuation)):\n",
    "        source1 = source1.replace(string.punctuation[n], \"\")\n",
    "        source2 = source1.replace(string.punctuation[n], \"\")\n",
    "        source3 = source1.replace(string.punctuation[n], \"\")\n",
    "        source4 = source1.replace(string.punctuation[n], \"\")\n",
    "        source5 = source1.replace(string.punctuation[n], \"\")\n",
    "\n",
    "# print(source1)\n",
    "num1 = source1.split()                                     # 공백을 기준으로 문자열을 나눔\n",
    "num2 = source2.split()\n",
    "num3 = source3.split()\n",
    "num4 = source4.split()\n",
    "num5 = source5.split()\n",
    "wordDic(num1)\n",
    "wordDic(num2)\n",
    "wordDic(num3)\n",
    "wordDic(num4)\n",
    "wordDic(num5)"
   ]
  },
  {
   "cell_type": "code",
   "execution_count": null,
   "id": "e61fa624",
   "metadata": {},
   "outputs": [],
   "source": []
  }
 ],
 "metadata": {
  "kernelspec": {
   "display_name": "Python 3",
   "language": "python",
   "name": "python3"
  },
  "language_info": {
   "codemirror_mode": {
    "name": "ipython",
    "version": 3
   },
   "file_extension": ".py",
   "mimetype": "text/x-python",
   "name": "python",
   "nbconvert_exporter": "python",
   "pygments_lexer": "ipython3",
   "version": "3.8.8"
  }
 },
 "nbformat": 4,
 "nbformat_minor": 5
}
